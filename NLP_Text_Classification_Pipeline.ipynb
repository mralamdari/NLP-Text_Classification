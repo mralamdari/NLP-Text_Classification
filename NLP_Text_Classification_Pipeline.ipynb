{
  "nbformat": 4,
  "nbformat_minor": 0,
  "metadata": {
    "colab": {
      "name": "NLP-Text_Classification-Pipeline.ipynb",
      "provenance": [],
      "collapsed_sections": [],
      "authorship_tag": "ABX9TyOwEkboZqZLv7miNRcNU+w7",
      "include_colab_link": true
    },
    "kernelspec": {
      "name": "python3",
      "display_name": "Python 3"
    },
    "language_info": {
      "name": "python"
    }
  },
  "cells": [
    {
      "cell_type": "markdown",
      "metadata": {
        "id": "view-in-github",
        "colab_type": "text"
      },
      "source": [
        "<a href=\"https://colab.research.google.com/github/mralamdari/NLP-Text_Classification/blob/main/NLP_Text_Classification_Pipeline.ipynb\" target=\"_parent\"><img src=\"https://colab.research.google.com/assets/colab-badge.svg\" alt=\"Open In Colab\"/></a>"
      ]
    },
    {
      "cell_type": "code",
      "execution_count": 13,
      "metadata": {
        "id": "kGa7IOCQVo4B"
      },
      "outputs": [],
      "source": [
        "import nltk\n",
        "import string\n",
        "import sklearn\n",
        "import numpy as np\n",
        "import pandas as pd\n",
        "import matplotlib.pyplot as plt \n",
        "import matplotlib.cm as cm\n",
        "import warnings\n",
        "warnings.filterwarnings('ignore')\n",
        "\n",
        "from sklearn import svm\n",
        "from sklearn import metrics\n",
        "from sklearn import naive_bayes\n",
        "from sklearn import linear_model\n",
        "from sklearn import feature_extraction\n",
        "from sklearn import model_selection"
      ]
    },
    {
      "cell_type": "code",
      "source": [
        "!wget -P DATAPATH https://raw.githubusercontent.com/practical-nlp/practical-nlp/master/Ch4/Data/Full-Economic-News-DFE-839861.csv\n",
        "!ls -lah DATAPATH\n",
        "data = pd.read_csv(\"DATAPATH/Full-Economic-News-DFE-839861.csv\" , encoding = \"ISO-8859-1\" )"
      ],
      "metadata": {
        "id": "Z_2Yt_WbXKF2",
        "colab": {
          "base_uri": "https://localhost:8080/"
        },
        "outputId": "93bfd7b9-b92d-4651-ec78-315edda59b1e"
      },
      "execution_count": 2,
      "outputs": [
        {
          "output_type": "stream",
          "name": "stdout",
          "text": [
            "--2022-05-27 05:31:38--  https://raw.githubusercontent.com/practical-nlp/practical-nlp/master/Ch4/Data/Full-Economic-News-DFE-839861.csv\n",
            "Resolving raw.githubusercontent.com (raw.githubusercontent.com)... 185.199.110.133, 185.199.111.133, 185.199.109.133, ...\n",
            "Connecting to raw.githubusercontent.com (raw.githubusercontent.com)|185.199.110.133|:443... connected.\n",
            "HTTP request sent, awaiting response... 200 OK\n",
            "Length: 12383529 (12M) [text/plain]\n",
            "Saving to: ‘DATAPATH/Full-Economic-News-DFE-839861.csv’\n",
            "\n",
            "Full-Economic-News- 100%[===================>]  11.81M  --.-KB/s    in 0.06s   \n",
            "\n",
            "2022-05-27 05:31:39 (192 MB/s) - ‘DATAPATH/Full-Economic-News-DFE-839861.csv’ saved [12383529/12383529]\n",
            "\n",
            "total 12M\n",
            "drwxr-xr-x 2 root root 4.0K May 27 05:31 .\n",
            "drwxr-xr-x 1 root root 4.0K May 27 05:31 ..\n",
            "-rw-r--r-- 1 root root  12M May 27 05:31 Full-Economic-News-DFE-839861.csv\n"
          ]
        }
      ]
    },
    {
      "cell_type": "code",
      "source": [
        "data"
      ],
      "metadata": {
        "colab": {
          "base_uri": "https://localhost:8080/",
          "height": 1000
        },
        "id": "OD-ut8T7Kk9E",
        "outputId": "1d03f5e3-e5f3-4c52-9e66-5244687fc210"
      },
      "execution_count": 3,
      "outputs": [
        {
          "output_type": "execute_result",
          "data": {
            "text/plain": [
              "       _unit_id  _golden _unit_state  _trusted_judgments _last_judgment_at  \\\n",
              "0     842613455    False   finalized                   3     12/5/15 17:48   \n",
              "1     842613456    False   finalized                   3     12/5/15 16:54   \n",
              "2     842613457    False   finalized                   3      12/5/15 1:59   \n",
              "3     842613458    False   finalized                   3      12/5/15 2:19   \n",
              "4     842613459    False   finalized                   3     12/5/15 17:48   \n",
              "...         ...      ...         ...                 ...               ...   \n",
              "7995  830985632    False   finalized                   3    11/17/15 18:16   \n",
              "7996  830985633    False   finalized                   3     11/18/15 8:10   \n",
              "7997  830985634    False   finalized                   3    11/18/15 12:12   \n",
              "7998  830985635    False   finalized                   3     11/18/15 7:17   \n",
              "7999  830985636    False   finalized                   3    11/18/15 11:05   \n",
              "\n",
              "      positivity  positivity:confidence relevance  relevance:confidence  \\\n",
              "0            3.0                 0.6400       yes                0.6400   \n",
              "1            NaN                    NaN        no                1.0000   \n",
              "2            NaN                    NaN        no                1.0000   \n",
              "3            NaN                 0.0000        no                0.6750   \n",
              "4            3.0                 0.3257       yes                0.6400   \n",
              "...          ...                    ...       ...                   ...   \n",
              "7995         7.0                 0.3511       yes                0.6641   \n",
              "7996         NaN                    NaN        no                1.0000   \n",
              "7997         NaN                    NaN        no                1.0000   \n",
              "7998         NaN                 0.0000        no                0.6855   \n",
              "7999         NaN                    NaN        no                1.0000   \n",
              "\n",
              "           articleid      date  \\\n",
              "0      wsj_398217788   8/14/91   \n",
              "1      wsj_399019502   8/21/07   \n",
              "2      wsj_398284048  11/14/91   \n",
              "3      wsj_397959018   6/16/86   \n",
              "4      wsj_398838054   10/4/02   \n",
              "...              ...       ...   \n",
              "7995  wapo_152454634   2/11/52   \n",
              "7996  wapo_410349039  12/13/09   \n",
              "7997  wapo_410346237  12/18/09   \n",
              "7998  wapo_307808606   1/10/95   \n",
              "7999  wapo_143151328   4/18/67   \n",
              "\n",
              "                                               headline  positivity_gold  \\\n",
              "0                 Yields on CDs Fell in the Latest Week              NaN   \n",
              "1     The Morning Brief: White House Seeks to Limit ...              NaN   \n",
              "2     Banking Bill Negotiators Set Compromise --- Pl...              NaN   \n",
              "3     Manager's Journal: Sniffing Out Drug Abusers I...              NaN   \n",
              "4     Currency Trading: Dollar Remains in Tight Rang...              NaN   \n",
              "...                                                 ...              ...   \n",
              "7995  Sawyer Sees Strong Economy For 2 Years, Truce ...              NaN   \n",
              "7996                   Oil's losses are airlines' gains              NaN   \n",
              "7997  Full Senate to vote on Bernanke; PANEL ADVANCE...              NaN   \n",
              "7998                          Reinventing Opportunities              NaN   \n",
              "7999  Stocks Rise On News of Auto Output: Dow Climbs...              NaN   \n",
              "\n",
              "      relevance_gold                                               text  \n",
              "0                NaN  NEW YORK -- Yields on most certificates of dep...  \n",
              "1                NaN  The Wall Street Journal Online</br></br>The Mo...  \n",
              "2                NaN  WASHINGTON -- In an effort to achieve banking ...  \n",
              "3                NaN  The statistics on the enormous costs of employ...  \n",
              "4                NaN  NEW YORK -- Indecision marked the dollar's ton...  \n",
              "...              ...                                                ...  \n",
              "7995             NaN  Secretary of Commerce Charles W. Sawyer said y...  \n",
              "7996             NaN  U.S. stocks inched up last week, overcoming co...  \n",
              "7997             NaN  Ben S. Bernanke cleared a key hurdle Thursday ...  \n",
              "7998             NaN  The White House's push to contract out many fe...  \n",
              "7999             NaN  NEW YORK. April 17-Automobile stocks put on th...  \n",
              "\n",
              "[8000 rows x 15 columns]"
            ],
            "text/html": [
              "\n",
              "  <div id=\"df-bade224d-6998-44bd-88b5-45b559349a86\">\n",
              "    <div class=\"colab-df-container\">\n",
              "      <div>\n",
              "<style scoped>\n",
              "    .dataframe tbody tr th:only-of-type {\n",
              "        vertical-align: middle;\n",
              "    }\n",
              "\n",
              "    .dataframe tbody tr th {\n",
              "        vertical-align: top;\n",
              "    }\n",
              "\n",
              "    .dataframe thead th {\n",
              "        text-align: right;\n",
              "    }\n",
              "</style>\n",
              "<table border=\"1\" class=\"dataframe\">\n",
              "  <thead>\n",
              "    <tr style=\"text-align: right;\">\n",
              "      <th></th>\n",
              "      <th>_unit_id</th>\n",
              "      <th>_golden</th>\n",
              "      <th>_unit_state</th>\n",
              "      <th>_trusted_judgments</th>\n",
              "      <th>_last_judgment_at</th>\n",
              "      <th>positivity</th>\n",
              "      <th>positivity:confidence</th>\n",
              "      <th>relevance</th>\n",
              "      <th>relevance:confidence</th>\n",
              "      <th>articleid</th>\n",
              "      <th>date</th>\n",
              "      <th>headline</th>\n",
              "      <th>positivity_gold</th>\n",
              "      <th>relevance_gold</th>\n",
              "      <th>text</th>\n",
              "    </tr>\n",
              "  </thead>\n",
              "  <tbody>\n",
              "    <tr>\n",
              "      <th>0</th>\n",
              "      <td>842613455</td>\n",
              "      <td>False</td>\n",
              "      <td>finalized</td>\n",
              "      <td>3</td>\n",
              "      <td>12/5/15 17:48</td>\n",
              "      <td>3.0</td>\n",
              "      <td>0.6400</td>\n",
              "      <td>yes</td>\n",
              "      <td>0.6400</td>\n",
              "      <td>wsj_398217788</td>\n",
              "      <td>8/14/91</td>\n",
              "      <td>Yields on CDs Fell in the Latest Week</td>\n",
              "      <td>NaN</td>\n",
              "      <td>NaN</td>\n",
              "      <td>NEW YORK -- Yields on most certificates of dep...</td>\n",
              "    </tr>\n",
              "    <tr>\n",
              "      <th>1</th>\n",
              "      <td>842613456</td>\n",
              "      <td>False</td>\n",
              "      <td>finalized</td>\n",
              "      <td>3</td>\n",
              "      <td>12/5/15 16:54</td>\n",
              "      <td>NaN</td>\n",
              "      <td>NaN</td>\n",
              "      <td>no</td>\n",
              "      <td>1.0000</td>\n",
              "      <td>wsj_399019502</td>\n",
              "      <td>8/21/07</td>\n",
              "      <td>The Morning Brief: White House Seeks to Limit ...</td>\n",
              "      <td>NaN</td>\n",
              "      <td>NaN</td>\n",
              "      <td>The Wall Street Journal Online&lt;/br&gt;&lt;/br&gt;The Mo...</td>\n",
              "    </tr>\n",
              "    <tr>\n",
              "      <th>2</th>\n",
              "      <td>842613457</td>\n",
              "      <td>False</td>\n",
              "      <td>finalized</td>\n",
              "      <td>3</td>\n",
              "      <td>12/5/15 1:59</td>\n",
              "      <td>NaN</td>\n",
              "      <td>NaN</td>\n",
              "      <td>no</td>\n",
              "      <td>1.0000</td>\n",
              "      <td>wsj_398284048</td>\n",
              "      <td>11/14/91</td>\n",
              "      <td>Banking Bill Negotiators Set Compromise --- Pl...</td>\n",
              "      <td>NaN</td>\n",
              "      <td>NaN</td>\n",
              "      <td>WASHINGTON -- In an effort to achieve banking ...</td>\n",
              "    </tr>\n",
              "    <tr>\n",
              "      <th>3</th>\n",
              "      <td>842613458</td>\n",
              "      <td>False</td>\n",
              "      <td>finalized</td>\n",
              "      <td>3</td>\n",
              "      <td>12/5/15 2:19</td>\n",
              "      <td>NaN</td>\n",
              "      <td>0.0000</td>\n",
              "      <td>no</td>\n",
              "      <td>0.6750</td>\n",
              "      <td>wsj_397959018</td>\n",
              "      <td>6/16/86</td>\n",
              "      <td>Manager's Journal: Sniffing Out Drug Abusers I...</td>\n",
              "      <td>NaN</td>\n",
              "      <td>NaN</td>\n",
              "      <td>The statistics on the enormous costs of employ...</td>\n",
              "    </tr>\n",
              "    <tr>\n",
              "      <th>4</th>\n",
              "      <td>842613459</td>\n",
              "      <td>False</td>\n",
              "      <td>finalized</td>\n",
              "      <td>3</td>\n",
              "      <td>12/5/15 17:48</td>\n",
              "      <td>3.0</td>\n",
              "      <td>0.3257</td>\n",
              "      <td>yes</td>\n",
              "      <td>0.6400</td>\n",
              "      <td>wsj_398838054</td>\n",
              "      <td>10/4/02</td>\n",
              "      <td>Currency Trading: Dollar Remains in Tight Rang...</td>\n",
              "      <td>NaN</td>\n",
              "      <td>NaN</td>\n",
              "      <td>NEW YORK -- Indecision marked the dollar's ton...</td>\n",
              "    </tr>\n",
              "    <tr>\n",
              "      <th>...</th>\n",
              "      <td>...</td>\n",
              "      <td>...</td>\n",
              "      <td>...</td>\n",
              "      <td>...</td>\n",
              "      <td>...</td>\n",
              "      <td>...</td>\n",
              "      <td>...</td>\n",
              "      <td>...</td>\n",
              "      <td>...</td>\n",
              "      <td>...</td>\n",
              "      <td>...</td>\n",
              "      <td>...</td>\n",
              "      <td>...</td>\n",
              "      <td>...</td>\n",
              "      <td>...</td>\n",
              "    </tr>\n",
              "    <tr>\n",
              "      <th>7995</th>\n",
              "      <td>830985632</td>\n",
              "      <td>False</td>\n",
              "      <td>finalized</td>\n",
              "      <td>3</td>\n",
              "      <td>11/17/15 18:16</td>\n",
              "      <td>7.0</td>\n",
              "      <td>0.3511</td>\n",
              "      <td>yes</td>\n",
              "      <td>0.6641</td>\n",
              "      <td>wapo_152454634</td>\n",
              "      <td>2/11/52</td>\n",
              "      <td>Sawyer Sees Strong Economy For 2 Years, Truce ...</td>\n",
              "      <td>NaN</td>\n",
              "      <td>NaN</td>\n",
              "      <td>Secretary of Commerce Charles W. Sawyer said y...</td>\n",
              "    </tr>\n",
              "    <tr>\n",
              "      <th>7996</th>\n",
              "      <td>830985633</td>\n",
              "      <td>False</td>\n",
              "      <td>finalized</td>\n",
              "      <td>3</td>\n",
              "      <td>11/18/15 8:10</td>\n",
              "      <td>NaN</td>\n",
              "      <td>NaN</td>\n",
              "      <td>no</td>\n",
              "      <td>1.0000</td>\n",
              "      <td>wapo_410349039</td>\n",
              "      <td>12/13/09</td>\n",
              "      <td>Oil's losses are airlines' gains</td>\n",
              "      <td>NaN</td>\n",
              "      <td>NaN</td>\n",
              "      <td>U.S. stocks inched up last week, overcoming co...</td>\n",
              "    </tr>\n",
              "    <tr>\n",
              "      <th>7997</th>\n",
              "      <td>830985634</td>\n",
              "      <td>False</td>\n",
              "      <td>finalized</td>\n",
              "      <td>3</td>\n",
              "      <td>11/18/15 12:12</td>\n",
              "      <td>NaN</td>\n",
              "      <td>NaN</td>\n",
              "      <td>no</td>\n",
              "      <td>1.0000</td>\n",
              "      <td>wapo_410346237</td>\n",
              "      <td>12/18/09</td>\n",
              "      <td>Full Senate to vote on Bernanke; PANEL ADVANCE...</td>\n",
              "      <td>NaN</td>\n",
              "      <td>NaN</td>\n",
              "      <td>Ben S. Bernanke cleared a key hurdle Thursday ...</td>\n",
              "    </tr>\n",
              "    <tr>\n",
              "      <th>7998</th>\n",
              "      <td>830985635</td>\n",
              "      <td>False</td>\n",
              "      <td>finalized</td>\n",
              "      <td>3</td>\n",
              "      <td>11/18/15 7:17</td>\n",
              "      <td>NaN</td>\n",
              "      <td>0.0000</td>\n",
              "      <td>no</td>\n",
              "      <td>0.6855</td>\n",
              "      <td>wapo_307808606</td>\n",
              "      <td>1/10/95</td>\n",
              "      <td>Reinventing Opportunities</td>\n",
              "      <td>NaN</td>\n",
              "      <td>NaN</td>\n",
              "      <td>The White House's push to contract out many fe...</td>\n",
              "    </tr>\n",
              "    <tr>\n",
              "      <th>7999</th>\n",
              "      <td>830985636</td>\n",
              "      <td>False</td>\n",
              "      <td>finalized</td>\n",
              "      <td>3</td>\n",
              "      <td>11/18/15 11:05</td>\n",
              "      <td>NaN</td>\n",
              "      <td>NaN</td>\n",
              "      <td>no</td>\n",
              "      <td>1.0000</td>\n",
              "      <td>wapo_143151328</td>\n",
              "      <td>4/18/67</td>\n",
              "      <td>Stocks Rise On News of Auto Output: Dow Climbs...</td>\n",
              "      <td>NaN</td>\n",
              "      <td>NaN</td>\n",
              "      <td>NEW YORK. April 17-Automobile stocks put on th...</td>\n",
              "    </tr>\n",
              "  </tbody>\n",
              "</table>\n",
              "<p>8000 rows × 15 columns</p>\n",
              "</div>\n",
              "      <button class=\"colab-df-convert\" onclick=\"convertToInteractive('df-bade224d-6998-44bd-88b5-45b559349a86')\"\n",
              "              title=\"Convert this dataframe to an interactive table.\"\n",
              "              style=\"display:none;\">\n",
              "        \n",
              "  <svg xmlns=\"http://www.w3.org/2000/svg\" height=\"24px\"viewBox=\"0 0 24 24\"\n",
              "       width=\"24px\">\n",
              "    <path d=\"M0 0h24v24H0V0z\" fill=\"none\"/>\n",
              "    <path d=\"M18.56 5.44l.94 2.06.94-2.06 2.06-.94-2.06-.94-.94-2.06-.94 2.06-2.06.94zm-11 1L8.5 8.5l.94-2.06 2.06-.94-2.06-.94L8.5 2.5l-.94 2.06-2.06.94zm10 10l.94 2.06.94-2.06 2.06-.94-2.06-.94-.94-2.06-.94 2.06-2.06.94z\"/><path d=\"M17.41 7.96l-1.37-1.37c-.4-.4-.92-.59-1.43-.59-.52 0-1.04.2-1.43.59L10.3 9.45l-7.72 7.72c-.78.78-.78 2.05 0 2.83L4 21.41c.39.39.9.59 1.41.59.51 0 1.02-.2 1.41-.59l7.78-7.78 2.81-2.81c.8-.78.8-2.07 0-2.86zM5.41 20L4 18.59l7.72-7.72 1.47 1.35L5.41 20z\"/>\n",
              "  </svg>\n",
              "      </button>\n",
              "      \n",
              "  <style>\n",
              "    .colab-df-container {\n",
              "      display:flex;\n",
              "      flex-wrap:wrap;\n",
              "      gap: 12px;\n",
              "    }\n",
              "\n",
              "    .colab-df-convert {\n",
              "      background-color: #E8F0FE;\n",
              "      border: none;\n",
              "      border-radius: 50%;\n",
              "      cursor: pointer;\n",
              "      display: none;\n",
              "      fill: #1967D2;\n",
              "      height: 32px;\n",
              "      padding: 0 0 0 0;\n",
              "      width: 32px;\n",
              "    }\n",
              "\n",
              "    .colab-df-convert:hover {\n",
              "      background-color: #E2EBFA;\n",
              "      box-shadow: 0px 1px 2px rgba(60, 64, 67, 0.3), 0px 1px 3px 1px rgba(60, 64, 67, 0.15);\n",
              "      fill: #174EA6;\n",
              "    }\n",
              "\n",
              "    [theme=dark] .colab-df-convert {\n",
              "      background-color: #3B4455;\n",
              "      fill: #D2E3FC;\n",
              "    }\n",
              "\n",
              "    [theme=dark] .colab-df-convert:hover {\n",
              "      background-color: #434B5C;\n",
              "      box-shadow: 0px 1px 3px 1px rgba(0, 0, 0, 0.15);\n",
              "      filter: drop-shadow(0px 1px 2px rgba(0, 0, 0, 0.3));\n",
              "      fill: #FFFFFF;\n",
              "    }\n",
              "  </style>\n",
              "\n",
              "      <script>\n",
              "        const buttonEl =\n",
              "          document.querySelector('#df-bade224d-6998-44bd-88b5-45b559349a86 button.colab-df-convert');\n",
              "        buttonEl.style.display =\n",
              "          google.colab.kernel.accessAllowed ? 'block' : 'none';\n",
              "\n",
              "        async function convertToInteractive(key) {\n",
              "          const element = document.querySelector('#df-bade224d-6998-44bd-88b5-45b559349a86');\n",
              "          const dataTable =\n",
              "            await google.colab.kernel.invokeFunction('convertToInteractive',\n",
              "                                                     [key], {});\n",
              "          if (!dataTable) return;\n",
              "\n",
              "          const docLinkHtml = 'Like what you see? Visit the ' +\n",
              "            '<a target=\"_blank\" href=https://colab.research.google.com/notebooks/data_table.ipynb>data table notebook</a>'\n",
              "            + ' to learn more about interactive tables.';\n",
              "          element.innerHTML = '';\n",
              "          dataTable['output_type'] = 'display_data';\n",
              "          await google.colab.output.renderOutput(dataTable, element);\n",
              "          const docLink = document.createElement('div');\n",
              "          docLink.innerHTML = docLinkHtml;\n",
              "          element.appendChild(docLink);\n",
              "        }\n",
              "      </script>\n",
              "    </div>\n",
              "  </div>\n",
              "  "
            ]
          },
          "metadata": {},
          "execution_count": 3
        }
      ]
    },
    {
      "cell_type": "code",
      "source": [
        "data.columns"
      ],
      "metadata": {
        "colab": {
          "base_uri": "https://localhost:8080/"
        },
        "id": "4PzBtx5bKnRX",
        "outputId": "8ac47f13-c13b-40e7-f589-3c3488b9f67e"
      },
      "execution_count": 4,
      "outputs": [
        {
          "output_type": "execute_result",
          "data": {
            "text/plain": [
              "Index(['_unit_id', '_golden', '_unit_state', '_trusted_judgments',\n",
              "       '_last_judgment_at', 'positivity', 'positivity:confidence', 'relevance',\n",
              "       'relevance:confidence', 'articleid', 'date', 'headline',\n",
              "       'positivity_gold', 'relevance_gold', 'text'],\n",
              "      dtype='object')"
            ]
          },
          "metadata": {},
          "execution_count": 4
        }
      ]
    },
    {
      "cell_type": "code",
      "source": [
        "data.shape"
      ],
      "metadata": {
        "colab": {
          "base_uri": "https://localhost:8080/"
        },
        "id": "KI6jfPpHLDVu",
        "outputId": "5ecfd062-723a-49ca-c693-0ec9efa4a12a"
      },
      "execution_count": 5,
      "outputs": [
        {
          "output_type": "execute_result",
          "data": {
            "text/plain": [
              "(8000, 15)"
            ]
          },
          "metadata": {},
          "execution_count": 5
        }
      ]
    },
    {
      "cell_type": "code",
      "source": [
        "100*data.relevance.value_counts() / data.shape[0]"
      ],
      "metadata": {
        "colab": {
          "base_uri": "https://localhost:8080/"
        },
        "id": "kesDEZGlLSB6",
        "outputId": "8f736f06-db3e-4f38-c6f8-b3b89bb28122"
      },
      "execution_count": 6,
      "outputs": [
        {
          "output_type": "execute_result",
          "data": {
            "text/plain": [
              "no          82.1375\n",
              "yes         17.7500\n",
              "not sure     0.1125\n",
              "Name: relevance, dtype: float64"
            ]
          },
          "metadata": {},
          "execution_count": 6
        }
      ]
    },
    {
      "cell_type": "code",
      "source": [
        "data.relevance.value_counts()"
      ],
      "metadata": {
        "colab": {
          "base_uri": "https://localhost:8080/"
        },
        "id": "aUOim2cbMnCF",
        "outputId": "9754ddaa-ae94-4f22-f872-aabc959a7ba1"
      },
      "execution_count": 7,
      "outputs": [
        {
          "output_type": "execute_result",
          "data": {
            "text/plain": [
              "no          6571\n",
              "yes         1420\n",
              "not sure       9\n",
              "Name: relevance, dtype: int64"
            ]
          },
          "metadata": {},
          "execution_count": 7
        }
      ]
    },
    {
      "cell_type": "code",
      "source": [
        "#remove 'not sure' from dataset (it is just 9 data)\n",
        "data = data[data.relevance != 'not sure']"
      ],
      "metadata": {
        "id": "H9pjs0MOLjuG"
      },
      "execution_count": 8,
      "outputs": []
    },
    {
      "cell_type": "code",
      "source": [
        "data['relevance'] = data.relevance.map({'yes': 1, 'no': 0})\n",
        "data = data[['text', 'relevance']]"
      ],
      "metadata": {
        "id": "2R6JuRH8OXwu"
      },
      "execution_count": 9,
      "outputs": []
    },
    {
      "cell_type": "code",
      "source": [
        "data"
      ],
      "metadata": {
        "colab": {
          "base_uri": "https://localhost:8080/",
          "height": 424
        },
        "id": "cSWAybiiO6m9",
        "outputId": "9fa788b1-2f14-40a4-9be4-50b925372c19"
      },
      "execution_count": 10,
      "outputs": [
        {
          "output_type": "execute_result",
          "data": {
            "text/plain": [
              "                                                   text  relevance\n",
              "0     NEW YORK -- Yields on most certificates of dep...          1\n",
              "1     The Wall Street Journal Online</br></br>The Mo...          0\n",
              "2     WASHINGTON -- In an effort to achieve banking ...          0\n",
              "3     The statistics on the enormous costs of employ...          0\n",
              "4     NEW YORK -- Indecision marked the dollar's ton...          1\n",
              "...                                                 ...        ...\n",
              "7995  Secretary of Commerce Charles W. Sawyer said y...          1\n",
              "7996  U.S. stocks inched up last week, overcoming co...          0\n",
              "7997  Ben S. Bernanke cleared a key hurdle Thursday ...          0\n",
              "7998  The White House's push to contract out many fe...          0\n",
              "7999  NEW YORK. April 17-Automobile stocks put on th...          0\n",
              "\n",
              "[7991 rows x 2 columns]"
            ],
            "text/html": [
              "\n",
              "  <div id=\"df-8af974d1-0e9b-4125-861a-c67350c8ba96\">\n",
              "    <div class=\"colab-df-container\">\n",
              "      <div>\n",
              "<style scoped>\n",
              "    .dataframe tbody tr th:only-of-type {\n",
              "        vertical-align: middle;\n",
              "    }\n",
              "\n",
              "    .dataframe tbody tr th {\n",
              "        vertical-align: top;\n",
              "    }\n",
              "\n",
              "    .dataframe thead th {\n",
              "        text-align: right;\n",
              "    }\n",
              "</style>\n",
              "<table border=\"1\" class=\"dataframe\">\n",
              "  <thead>\n",
              "    <tr style=\"text-align: right;\">\n",
              "      <th></th>\n",
              "      <th>text</th>\n",
              "      <th>relevance</th>\n",
              "    </tr>\n",
              "  </thead>\n",
              "  <tbody>\n",
              "    <tr>\n",
              "      <th>0</th>\n",
              "      <td>NEW YORK -- Yields on most certificates of dep...</td>\n",
              "      <td>1</td>\n",
              "    </tr>\n",
              "    <tr>\n",
              "      <th>1</th>\n",
              "      <td>The Wall Street Journal Online&lt;/br&gt;&lt;/br&gt;The Mo...</td>\n",
              "      <td>0</td>\n",
              "    </tr>\n",
              "    <tr>\n",
              "      <th>2</th>\n",
              "      <td>WASHINGTON -- In an effort to achieve banking ...</td>\n",
              "      <td>0</td>\n",
              "    </tr>\n",
              "    <tr>\n",
              "      <th>3</th>\n",
              "      <td>The statistics on the enormous costs of employ...</td>\n",
              "      <td>0</td>\n",
              "    </tr>\n",
              "    <tr>\n",
              "      <th>4</th>\n",
              "      <td>NEW YORK -- Indecision marked the dollar's ton...</td>\n",
              "      <td>1</td>\n",
              "    </tr>\n",
              "    <tr>\n",
              "      <th>...</th>\n",
              "      <td>...</td>\n",
              "      <td>...</td>\n",
              "    </tr>\n",
              "    <tr>\n",
              "      <th>7995</th>\n",
              "      <td>Secretary of Commerce Charles W. Sawyer said y...</td>\n",
              "      <td>1</td>\n",
              "    </tr>\n",
              "    <tr>\n",
              "      <th>7996</th>\n",
              "      <td>U.S. stocks inched up last week, overcoming co...</td>\n",
              "      <td>0</td>\n",
              "    </tr>\n",
              "    <tr>\n",
              "      <th>7997</th>\n",
              "      <td>Ben S. Bernanke cleared a key hurdle Thursday ...</td>\n",
              "      <td>0</td>\n",
              "    </tr>\n",
              "    <tr>\n",
              "      <th>7998</th>\n",
              "      <td>The White House's push to contract out many fe...</td>\n",
              "      <td>0</td>\n",
              "    </tr>\n",
              "    <tr>\n",
              "      <th>7999</th>\n",
              "      <td>NEW YORK. April 17-Automobile stocks put on th...</td>\n",
              "      <td>0</td>\n",
              "    </tr>\n",
              "  </tbody>\n",
              "</table>\n",
              "<p>7991 rows × 2 columns</p>\n",
              "</div>\n",
              "      <button class=\"colab-df-convert\" onclick=\"convertToInteractive('df-8af974d1-0e9b-4125-861a-c67350c8ba96')\"\n",
              "              title=\"Convert this dataframe to an interactive table.\"\n",
              "              style=\"display:none;\">\n",
              "        \n",
              "  <svg xmlns=\"http://www.w3.org/2000/svg\" height=\"24px\"viewBox=\"0 0 24 24\"\n",
              "       width=\"24px\">\n",
              "    <path d=\"M0 0h24v24H0V0z\" fill=\"none\"/>\n",
              "    <path d=\"M18.56 5.44l.94 2.06.94-2.06 2.06-.94-2.06-.94-.94-2.06-.94 2.06-2.06.94zm-11 1L8.5 8.5l.94-2.06 2.06-.94-2.06-.94L8.5 2.5l-.94 2.06-2.06.94zm10 10l.94 2.06.94-2.06 2.06-.94-2.06-.94-.94-2.06-.94 2.06-2.06.94z\"/><path d=\"M17.41 7.96l-1.37-1.37c-.4-.4-.92-.59-1.43-.59-.52 0-1.04.2-1.43.59L10.3 9.45l-7.72 7.72c-.78.78-.78 2.05 0 2.83L4 21.41c.39.39.9.59 1.41.59.51 0 1.02-.2 1.41-.59l7.78-7.78 2.81-2.81c.8-.78.8-2.07 0-2.86zM5.41 20L4 18.59l7.72-7.72 1.47 1.35L5.41 20z\"/>\n",
              "  </svg>\n",
              "      </button>\n",
              "      \n",
              "  <style>\n",
              "    .colab-df-container {\n",
              "      display:flex;\n",
              "      flex-wrap:wrap;\n",
              "      gap: 12px;\n",
              "    }\n",
              "\n",
              "    .colab-df-convert {\n",
              "      background-color: #E8F0FE;\n",
              "      border: none;\n",
              "      border-radius: 50%;\n",
              "      cursor: pointer;\n",
              "      display: none;\n",
              "      fill: #1967D2;\n",
              "      height: 32px;\n",
              "      padding: 0 0 0 0;\n",
              "      width: 32px;\n",
              "    }\n",
              "\n",
              "    .colab-df-convert:hover {\n",
              "      background-color: #E2EBFA;\n",
              "      box-shadow: 0px 1px 2px rgba(60, 64, 67, 0.3), 0px 1px 3px 1px rgba(60, 64, 67, 0.15);\n",
              "      fill: #174EA6;\n",
              "    }\n",
              "\n",
              "    [theme=dark] .colab-df-convert {\n",
              "      background-color: #3B4455;\n",
              "      fill: #D2E3FC;\n",
              "    }\n",
              "\n",
              "    [theme=dark] .colab-df-convert:hover {\n",
              "      background-color: #434B5C;\n",
              "      box-shadow: 0px 1px 3px 1px rgba(0, 0, 0, 0.15);\n",
              "      filter: drop-shadow(0px 1px 2px rgba(0, 0, 0, 0.3));\n",
              "      fill: #FFFFFF;\n",
              "    }\n",
              "  </style>\n",
              "\n",
              "      <script>\n",
              "        const buttonEl =\n",
              "          document.querySelector('#df-8af974d1-0e9b-4125-861a-c67350c8ba96 button.colab-df-convert');\n",
              "        buttonEl.style.display =\n",
              "          google.colab.kernel.accessAllowed ? 'block' : 'none';\n",
              "\n",
              "        async function convertToInteractive(key) {\n",
              "          const element = document.querySelector('#df-8af974d1-0e9b-4125-861a-c67350c8ba96');\n",
              "          const dataTable =\n",
              "            await google.colab.kernel.invokeFunction('convertToInteractive',\n",
              "                                                     [key], {});\n",
              "          if (!dataTable) return;\n",
              "\n",
              "          const docLinkHtml = 'Like what you see? Visit the ' +\n",
              "            '<a target=\"_blank\" href=https://colab.research.google.com/notebooks/data_table.ipynb>data table notebook</a>'\n",
              "            + ' to learn more about interactive tables.';\n",
              "          element.innerHTML = '';\n",
              "          dataTable['output_type'] = 'display_data';\n",
              "          await google.colab.output.renderOutput(dataTable, element);\n",
              "          const docLink = document.createElement('div');\n",
              "          docLink.innerHTML = docLinkHtml;\n",
              "          element.appendChild(docLink);\n",
              "        }\n",
              "      </script>\n",
              "    </div>\n",
              "  </div>\n",
              "  "
            ]
          },
          "metadata": {},
          "execution_count": 10
        }
      ]
    },
    {
      "cell_type": "code",
      "source": [
        "stopwords = sklearn.feature_extraction._stop_words.ENGLISH_STOP_WORDS\n",
        "def data_processing(doc):\n",
        "  doc = doc.replace('</br>', ' ')\n",
        "  doc = ''.join([char for char in doc if char not in string.punctuation and not char.isdigit()])\n",
        "  doc = ' '.join([token for token in doc.split() if token not in stopwords])\n",
        "  return doc"
      ],
      "metadata": {
        "id": "sdUfX62uO8C4"
      },
      "execution_count": 11,
      "outputs": []
    },
    {
      "cell_type": "code",
      "source": [
        "x = data.text\n",
        "y = data.relevance\n",
        "x_train, x_test, y_train, y_test = model_selection.train_test_split(x, y, random_state=23, test_size=0.25)"
      ],
      "metadata": {
        "id": "ISdEjrSkSBq9"
      },
      "execution_count": 15,
      "outputs": []
    },
    {
      "cell_type": "code",
      "source": [
        "print(x_train.shape, y_train.shape)"
      ],
      "metadata": {
        "id": "VdAIyGaGUNBL",
        "colab": {
          "base_uri": "https://localhost:8080/"
        },
        "outputId": "2d90f98b-756f-49eb-bf16-2fc6c22f4368"
      },
      "execution_count": 16,
      "outputs": [
        {
          "output_type": "stream",
          "name": "stdout",
          "text": [
            "(5993,) (5993,)\n"
          ]
        }
      ]
    },
    {
      "cell_type": "code",
      "source": [
        "print(x_test.shape, y_test.shape)"
      ],
      "metadata": {
        "colab": {
          "base_uri": "https://localhost:8080/"
        },
        "id": "Mu1C_ZZRAynm",
        "outputId": "7c96acde-7488-4da4-e979-788a01035990"
      },
      "execution_count": 17,
      "outputs": [
        {
          "output_type": "stream",
          "name": "stdout",
          "text": [
            "(1998,) (1998,)\n"
          ]
        }
      ]
    },
    {
      "cell_type": "code",
      "source": [
        "vect = feature_extraction.text.CountVectorizer(preprocessor=data_processing)\n",
        "\n",
        "x_train_dtm = vect.fit_transform(x_train)\n",
        "x_test_dtm = vect.transform(x_test)\n",
        "\n",
        "print(x_train_dtm.shape, x_test_dtm.shape)"
      ],
      "metadata": {
        "colab": {
          "base_uri": "https://localhost:8080/"
        },
        "id": "QOMhCWUlA0Fe",
        "outputId": "295e6065-a53d-4381-b82a-7291cf41ae98"
      },
      "execution_count": 23,
      "outputs": [
        {
          "output_type": "stream",
          "name": "stdout",
          "text": [
            "(5993, 49755) (1998, 49755)\n"
          ]
        }
      ]
    },
    {
      "cell_type": "code",
      "source": [
        "print(len(vect.get_feature_names_out()))\n",
        "vect.get_feature_names_out()"
      ],
      "metadata": {
        "colab": {
          "base_uri": "https://localhost:8080/"
        },
        "id": "e5TdmyTNBlBF",
        "outputId": "fecd062d-33f3-4eb6-b10c-39677eecf5bc"
      },
      "execution_count": 36,
      "outputs": [
        {
          "output_type": "stream",
          "name": "stdout",
          "text": [
            "49755\n"
          ]
        },
        {
          "output_type": "execute_result",
          "data": {
            "text/plain": [
              "array(['AA', 'AAA', 'AACER', ..., 'åÈi', 'åÈn', 'åÈut'], dtype=object)"
            ]
          },
          "metadata": {},
          "execution_count": 36
        }
      ]
    },
    {
      "cell_type": "code",
      "source": [
        "print(len(vect.get_feature_names()))\n",
        "vect.get_feature_names()[20:40]"
      ],
      "metadata": {
        "colab": {
          "base_uri": "https://localhost:8080/"
        },
        "id": "y96qKR9_CMnZ",
        "outputId": "ffb5fae3-5082-4f5e-e601-6012d7d8add2"
      },
      "execution_count": 37,
      "outputs": [
        {
          "output_type": "stream",
          "name": "stdout",
          "text": [
            "49755\n"
          ]
        },
        {
          "output_type": "execute_result",
          "data": {
            "text/plain": [
              "['ABU',\n",
              " 'ABkLtFI',\n",
              " 'ABkTPa',\n",
              " 'ABkrFla',\n",
              " 'AC',\n",
              " 'ACAPULCO',\n",
              " 'ACCB',\n",
              " 'ACLU',\n",
              " 'ACORN',\n",
              " 'ACQUIRES',\n",
              " 'ACS',\n",
              " 'ACSs',\n",
              " 'ACTUAL',\n",
              " 'ACoLl',\n",
              " 'ACtyBk',\n",
              " 'AD',\n",
              " 'ADA',\n",
              " 'ADC',\n",
              " 'ADD',\n",
              " 'ADEAR']"
            ]
          },
          "metadata": {},
          "execution_count": 37
        }
      ]
    },
    {
      "cell_type": "code",
      "source": [
        ""
      ],
      "metadata": {
        "id": "ywBRAQCQC3zi"
      },
      "execution_count": null,
      "outputs": []
    }
  ]
}