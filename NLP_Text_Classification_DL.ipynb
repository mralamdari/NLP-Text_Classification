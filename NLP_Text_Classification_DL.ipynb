{
  "cells": [
    {
      "cell_type": "markdown",
      "metadata": {
        "id": "view-in-github",
        "colab_type": "text"
      },
      "source": [
        "<a href=\"https://colab.research.google.com/github/mralamdari/NLP-Text_Classification/blob/main/NLP_Text_Classification_DL.ipynb\" target=\"_parent\"><img src=\"https://colab.research.google.com/assets/colab-badge.svg\" alt=\"Open In Colab\"/></a>"
      ]
    },
    {
      "cell_type": "code",
      "execution_count": null,
      "metadata": {
        "id": "FnsJJZQtGlSD"
      },
      "outputs": [],
      "source": [
        "!pip install wget\n",
        "!pip install ktrain"
      ]
    },
    {
      "cell_type": "code",
      "execution_count": 15,
      "metadata": {
        "id": "630QbPyVAtxb"
      },
      "outputs": [],
      "source": [
        "import os\n",
        "import sys\n",
        "import wget\n",
        "import nltk\n",
        "import ktrain\n",
        "import tarfile\n",
        "import warnings\n",
        "import numpy as np\n",
        "from ktrain import text\n",
        "import tensorflow as tf\n",
        "from zipfile import ZipFile\n",
        "\n",
        "warnings.filterwarnings('ignore')"
      ]
    },
    {
      "cell_type": "markdown",
      "source": [
        "# Data\n",
        "###IMDB Dataset"
      ],
      "metadata": {
        "id": "WqulR4UnPROu"
      }
    },
    {
      "cell_type": "code",
      "source": [
        "!wget -P DATAPATH http://nlp.stanford.edu/data/glove.6B.zip\n",
        "!unzip DATAPATH/glove.6B.zip -d DATAPATH/glove.6B\n",
        "\n",
        "!wget -P DATAPATH http://ai.stanford.edu/~amaas/data/sentiment/aclImdb_v1.tar.gz\n",
        "!tar -xvf DATAPATH/aclImdb_v1.tar.gz -C DATAPATH\n",
        "BASE_DIR = 'Data'"
      ],
      "metadata": {
        "id": "J0J-IuZYR9hH"
      },
      "execution_count": null,
      "outputs": []
    },
    {
      "cell_type": "code",
      "execution_count": 4,
      "metadata": {
        "id": "IWnjSL62GE6T"
      },
      "outputs": [],
      "source": [
        "BASE_DIR = '/content/DATAPATH'\n",
        "GLOVE_DIR = os.path.join(BASE_DIR, 'glove.6B')\n",
        "TRAIN_DATA_DIR = os.path.join(BASE_DIR, 'aclImdb/train')\n",
        "TEST_DATA_DIR = os.path.join(BASE_DIR, 'aclImdb/test')"
      ]
    },
    {
      "cell_type": "code",
      "source": [
        "MAX_SEQUENCE_LENGTH = 1000\n",
        "MAX_NUM_WORDS = 20000\n",
        "EMBEDDING_DIM = 100\n",
        "VALIDATION_SPLIT = 0.2"
      ],
      "metadata": {
        "id": "ViVnx40MI2UH"
      },
      "execution_count": 5,
      "outputs": []
    },
    {
      "cell_type": "code",
      "source": [
        "def get_data(data_dir):\n",
        "  texts = []\n",
        "  labels_index = {'pos': 1, 'neg': 0}\n",
        "  labels = []\n",
        "  for name in sorted(os.listdir(data_dir)):\n",
        "    path = os.path.join(data_dir, name)\n",
        "    if os.path.isdir(path):\n",
        "      if name=='pos' or name=='neg':\n",
        "        label_id = labels_index[name]\n",
        "        for fname in sorted(os.listdir(path)):\n",
        "          fpath = os.path.join(path, fname)\n",
        "          text = open(fpath, encoding='utf8').read()\n",
        "          texts.append(text)\n",
        "          labels.append(label_id)\n",
        "  return texts, labels"
      ],
      "metadata": {
        "id": "mfEdc3vIPemc"
      },
      "execution_count": 6,
      "outputs": []
    },
    {
      "cell_type": "code",
      "source": [
        "train_texts, train_labels = get_data(TRAIN_DATA_DIR)\n",
        "test_texts, test_labels = get_data(TEST_DATA_DIR)"
      ],
      "metadata": {
        "id": "uwcwvh8lQ-xf"
      },
      "execution_count": 7,
      "outputs": []
    },
    {
      "cell_type": "code",
      "source": [
        "train_texts[20]"
      ],
      "metadata": {
        "colab": {
          "base_uri": "https://localhost:8080/",
          "height": 53
        },
        "id": "cp9FipkLpROx",
        "outputId": "27f94f0f-b88a-4837-d273-e35f75c6be1f"
      },
      "execution_count": 8,
      "outputs": [
        {
          "output_type": "execute_result",
          "data": {
            "text/plain": [
              "\"The characters are unlikeable and the script is awful. It's a waste of the talents of Deneuve and Auteuil.\""
            ],
            "application/vnd.google.colaboratory.intrinsic+json": {
              "type": "string"
            }
          },
          "metadata": {},
          "execution_count": 8
        }
      ]
    },
    {
      "cell_type": "markdown",
      "source": [
        "#DNN"
      ],
      "metadata": {
        "id": "Cp0xV2cMVAp6"
      }
    },
    {
      "cell_type": "code",
      "source": [
        "tokenizer = tf.keras.preprocessing.text.Tokenizer(num_words=MAX_NUM_WORDS)\n",
        "tokenizer.fit_on_texts(train_texts)\n",
        "train_sequences = tokenizer.texts_to_sequences(train_texts)\n",
        "test_sequences = tokenizer.texts_to_sequences(test_texts)\n",
        "word_index = tokenizer.word_index"
      ],
      "metadata": {
        "id": "rDgpclcsXLTA"
      },
      "execution_count": 10,
      "outputs": []
    },
    {
      "cell_type": "code",
      "source": [
        "train_valid_data = tf.keras.preprocessing.sequence.pad_sequences(train_sequences, maxlen=MAX_SEQUENCE_LENGTH)\n",
        "test_data = tf.keras.preprocessing.sequence.pad_sequences(train_sequences, maxlen=MAX_SEQUENCE_LENGTH)\n",
        "train_valid_labels = tf.keras.utils.to_categorical(np.asarray(train_labels))\n",
        "test_labels = tf.keras.utils.to_categorical(np.asarray(test_labels))"
      ],
      "metadata": {
        "id": "5hDvhwUxrUA8"
      },
      "execution_count": 16,
      "outputs": []
    },
    {
      "cell_type": "code",
      "source": [
        "indices =np.arange(train_valid_data.shape[0])\n",
        "np.random.shuffle(indices)\n",
        "train_valid_data = train_valid_data[indices]\n",
        "train_valid_labels = train_valid_labels[indices]\n",
        "num_validation_samples = int(VALIDATION_SPLIT * train_valid_data.shape[0])"
      ],
      "metadata": {
        "id": "qkd28yKKvDrV"
      },
      "execution_count": 17,
      "outputs": []
    },
    {
      "cell_type": "code",
      "source": [
        "x_train = train_valid_data[:-num_validation_samples]\n",
        "y_train = train_valid_labels[:-num_validation_samples]\n",
        "\n",
        "x_train = train_valid_data[-num_validation_samples:]\n",
        "y_train = train_valid_labels[-num_validation_samples:]"
      ],
      "metadata": {
        "id": "Ke0w8uzdvkJb"
      },
      "execution_count": 18,
      "outputs": []
    },
    {
      "cell_type": "code",
      "source": [
        "embeddings_index = {}\n",
        "with open(os.path.join(GLOVE_DIR, 'glove.6B.100d.txt'), encoding='utf8') as f:\n",
        "  for line in f:\n",
        "    values = line.split()\n",
        "    word = values[0]\n",
        "    coefs = np.asarray(values[1:], dtype='float32')\n",
        "    embeddings_index[word] = coefs"
      ],
      "metadata": {
        "id": "ImEA8jYcwE5T"
      },
      "execution_count": 20,
      "outputs": []
    },
    {
      "cell_type": "code",
      "source": [
        ""
      ],
      "metadata": {
        "id": "tdqribhVVAY_"
      },
      "execution_count": null,
      "outputs": []
    },
    {
      "cell_type": "code",
      "source": [
        ""
      ],
      "metadata": {
        "id": "A8tL4N3JVAUy"
      },
      "execution_count": null,
      "outputs": []
    },
    {
      "cell_type": "code",
      "source": [
        ""
      ],
      "metadata": {
        "id": "jmoJtwscVASV"
      },
      "execution_count": null,
      "outputs": []
    },
    {
      "cell_type": "code",
      "source": [
        ""
      ],
      "metadata": {
        "id": "0EZ1tv1mVAP3"
      },
      "execution_count": null,
      "outputs": []
    },
    {
      "cell_type": "code",
      "source": [
        ""
      ],
      "metadata": {
        "id": "EffQ_osQVANa"
      },
      "execution_count": null,
      "outputs": []
    },
    {
      "cell_type": "markdown",
      "source": [
        "#BERT Sentiment Classification\n",
        "## IMDB ktrain"
      ],
      "metadata": {
        "id": "nIvsHlIKO7Zn"
      }
    },
    {
      "cell_type": "code",
      "source": [
        ""
      ],
      "metadata": {
        "id": "K1eUnvH4JXIw"
      },
      "execution_count": null,
      "outputs": []
    }
  ],
  "metadata": {
    "colab": {
      "collapsed_sections": [],
      "name": "NLP_Text_Classification_DL.ipynb",
      "provenance": [],
      "authorship_tag": "ABX9TyNa5a+enTBD0/e3bIVAUSRQ",
      "include_colab_link": true
    },
    "kernelspec": {
      "display_name": "Python 3",
      "name": "python3"
    },
    "language_info": {
      "name": "python"
    }
  },
  "nbformat": 4,
  "nbformat_minor": 0
}