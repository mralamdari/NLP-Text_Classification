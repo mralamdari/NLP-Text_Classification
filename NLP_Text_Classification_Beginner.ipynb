{
  "nbformat": 4,
  "nbformat_minor": 0,
  "metadata": {
    "colab": {
      "name": "NLP-Text_Classification-Beginner.ipynb",
      "provenance": [],
      "authorship_tag": "ABX9TyNCvtgEF0XihBXiKH45rIn5",
      "include_colab_link": true
    },
    "kernelspec": {
      "name": "python3",
      "display_name": "Python 3"
    },
    "language_info": {
      "name": "python"
    }
  },
  "cells": [
    {
      "cell_type": "markdown",
      "metadata": {
        "id": "view-in-github",
        "colab_type": "text"
      },
      "source": [
        "<a href=\"https://colab.research.google.com/github/mr-alamdari/NLP-Text_Classification-Beginner/blob/main/NLP_Text_Classification_Beginner.ipynb\" target=\"_parent\"><img src=\"https://colab.research.google.com/assets/colab-badge.svg\" alt=\"Open In Colab\"/></a>"
      ]
    },
    {
      "cell_type": "code",
      "execution_count": 5,
      "metadata": {
        "id": "cxMIALLK8WFZ"
      },
      "outputs": [],
      "source": [
        "import numpy as np\n",
        "import pandas as pd\n",
        "import sklearn\n",
        "from sklearn import feature_extraction"
      ]
    },
    {
      "cell_type": "code",
      "source": [
        "samples = ['Hello, my name is Esi',\n",
        "          'How are you?',\n",
        "          'Are you doing great?',\n",
        "          'It is a nice wether outside',\n",
        "          'Let\"s go there tommorow']"
      ],
      "metadata": {
        "id": "rWzzmVgE94cW"
      },
      "execution_count": 11,
      "outputs": []
    },
    {
      "cell_type": "code",
      "source": [
        "vect = feature_extraction.text.CountVectorizer()"
      ],
      "metadata": {
        "id": "tFldkLbd-f51"
      },
      "execution_count": 8,
      "outputs": []
    },
    {
      "cell_type": "code",
      "source": [
        "vect.fit_transform(samples)"
      ],
      "metadata": {
        "colab": {
          "base_uri": "https://localhost:8080/"
        },
        "id": "SOF0itZM-luB",
        "outputId": "28902369-26c7-494c-d612-75173d3ce534"
      },
      "execution_count": 12,
      "outputs": [
        {
          "output_type": "execute_result",
          "data": {
            "text/plain": [
              "<5x18 sparse matrix of type '<class 'numpy.int64'>'\n",
              "\twith 21 stored elements in Compressed Sparse Row format>"
            ]
          },
          "metadata": {},
          "execution_count": 12
        }
      ]
    },
    {
      "cell_type": "code",
      "source": [
        "vect.get_feature_names()"
      ],
      "metadata": {
        "colab": {
          "base_uri": "https://localhost:8080/"
        },
        "id": "C9l9Yq6F-2Im",
        "outputId": "014ab672-e05c-4ef5-f8c6-251fd4247b06"
      },
      "execution_count": 13,
      "outputs": [
        {
          "output_type": "stream",
          "name": "stderr",
          "text": [
            "/usr/local/lib/python3.7/dist-packages/sklearn/utils/deprecation.py:87: FutureWarning: Function get_feature_names is deprecated; get_feature_names is deprecated in 1.0 and will be removed in 1.2. Please use get_feature_names_out instead.\n",
            "  warnings.warn(msg, category=FutureWarning)\n"
          ]
        },
        {
          "output_type": "execute_result",
          "data": {
            "text/plain": [
              "['are',\n",
              " 'doing',\n",
              " 'esi',\n",
              " 'go',\n",
              " 'great',\n",
              " 'hello',\n",
              " 'how',\n",
              " 'is',\n",
              " 'it',\n",
              " 'let',\n",
              " 'my',\n",
              " 'name',\n",
              " 'nice',\n",
              " 'outside',\n",
              " 'there',\n",
              " 'tommorow',\n",
              " 'wether',\n",
              " 'you']"
            ]
          },
          "metadata": {},
          "execution_count": 13
        }
      ]
    },
    {
      "cell_type": "code",
      "source": [
        "tvect = feature_extraction.text.TfidfVectorizer()"
      ],
      "metadata": {
        "id": "DrNpyHjn_unI"
      },
      "execution_count": 14,
      "outputs": []
    },
    {
      "cell_type": "code",
      "source": [
        "DTM = tvect.fit_transform(samples)"
      ],
      "metadata": {
        "id": "k2ZGTq0i_8go"
      },
      "execution_count": 16,
      "outputs": []
    },
    {
      "cell_type": "code",
      "source": [
        "tvect.vocabulary_"
      ],
      "metadata": {
        "colab": {
          "base_uri": "https://localhost:8080/"
        },
        "id": "tri3GOBPAAGT",
        "outputId": "01e3d1ca-1f5d-4b21-ce34-f7170cc4d39d"
      },
      "execution_count": 22,
      "outputs": [
        {
          "output_type": "execute_result",
          "data": {
            "text/plain": [
              "{'are': 0,\n",
              " 'doing': 1,\n",
              " 'esi': 2,\n",
              " 'go': 3,\n",
              " 'great': 4,\n",
              " 'hello': 5,\n",
              " 'how': 6,\n",
              " 'is': 7,\n",
              " 'it': 8,\n",
              " 'let': 9,\n",
              " 'my': 10,\n",
              " 'name': 11,\n",
              " 'nice': 12,\n",
              " 'outside': 13,\n",
              " 'there': 14,\n",
              " 'tommorow': 15,\n",
              " 'wether': 16,\n",
              " 'you': 17}"
            ]
          },
          "metadata": {},
          "execution_count": 22
        }
      ]
    },
    {
      "cell_type": "code",
      "source": [
        "tvect.get_feature_names_out()"
      ],
      "metadata": {
        "colab": {
          "base_uri": "https://localhost:8080/"
        },
        "id": "9Scqyt9KAEcZ",
        "outputId": "20be39fb-0374-4124-ab13-4e3c19ded15b"
      },
      "execution_count": 24,
      "outputs": [
        {
          "output_type": "execute_result",
          "data": {
            "text/plain": [
              "array(['are', 'doing', 'esi', 'go', 'great', 'hello', 'how', 'is', 'it',\n",
              "       'let', 'my', 'name', 'nice', 'outside', 'there', 'tommorow',\n",
              "       'wether', 'you'], dtype=object)"
            ]
          },
          "metadata": {},
          "execution_count": 24
        }
      ]
    },
    {
      "cell_type": "code",
      "source": [
        ""
      ],
      "metadata": {
        "id": "BuITLVDOAgl3"
      },
      "execution_count": null,
      "outputs": []
    }
  ]
}