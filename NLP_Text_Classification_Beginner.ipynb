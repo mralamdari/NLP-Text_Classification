{
  "nbformat": 4,
  "nbformat_minor": 0,
  "metadata": {
    "colab": {
      "name": "NLP-Text_Classification-Beginner.ipynb",
      "provenance": [],
      "authorship_tag": "ABX9TyM20kzlnX2v2W1LOFHB5EyH",
      "include_colab_link": true
    },
    "kernelspec": {
      "name": "python3",
      "display_name": "Python 3"
    },
    "language_info": {
      "name": "python"
    }
  },
  "cells": [
    {
      "cell_type": "markdown",
      "metadata": {
        "id": "view-in-github",
        "colab_type": "text"
      },
      "source": [
        "<a href=\"https://colab.research.google.com/github/mr-alamdari/NLP-Text_Classification-Beginner/blob/main/NLP_Text_Classification_Beginner.ipynb\" target=\"_parent\"><img src=\"https://colab.research.google.com/assets/colab-badge.svg\" alt=\"Open In Colab\"/></a>"
      ]
    },
    {
      "cell_type": "code",
      "execution_count": 5,
      "metadata": {
        "id": "cxMIALLK8WFZ"
      },
      "outputs": [],
      "source": [
        "import numpy as np\n",
        "import pandas as pd\n",
        "import sklearn\n",
        "from sklearn import feature_extraction"
      ]
    },
    {
      "cell_type": "code",
      "source": [
        "samples = ['Hello, my name is Esi',\n",
        "          'How are you?',\n",
        "          'Are you doing great?',\n",
        "          'It is a nice wether outside',\n",
        "          'Let\"s go there tommorow',\n",
        "           'This is a story about cats',\n",
        "          'our feline pets',\n",
        "          'Cats are furry animals']"
      ],
      "metadata": {
        "id": "rWzzmVgE94cW"
      },
      "execution_count": 25,
      "outputs": []
    },
    {
      "cell_type": "code",
      "source": [
        "vect = feature_extraction.text.CountVectorizer()"
      ],
      "metadata": {
        "id": "tFldkLbd-f51"
      },
      "execution_count": 26,
      "outputs": []
    },
    {
      "cell_type": "code",
      "source": [
        "vect.fit_transform(samples)"
      ],
      "metadata": {
        "colab": {
          "base_uri": "https://localhost:8080/"
        },
        "id": "SOF0itZM-luB",
        "outputId": "0c44328f-fcb1-46d5-8803-36691aaa84b1"
      },
      "execution_count": 27,
      "outputs": [
        {
          "output_type": "execute_result",
          "data": {
            "text/plain": [
              "<8x27 sparse matrix of type '<class 'numpy.int64'>'\n",
              "\twith 33 stored elements in Compressed Sparse Row format>"
            ]
          },
          "metadata": {},
          "execution_count": 27
        }
      ]
    },
    {
      "cell_type": "code",
      "source": [
        "vect.get_feature_names()"
      ],
      "metadata": {
        "colab": {
          "base_uri": "https://localhost:8080/"
        },
        "id": "C9l9Yq6F-2Im",
        "outputId": "bafdc181-a2e9-485b-ef53-c5776378cd0c"
      },
      "execution_count": 28,
      "outputs": [
        {
          "output_type": "stream",
          "name": "stderr",
          "text": [
            "/usr/local/lib/python3.7/dist-packages/sklearn/utils/deprecation.py:87: FutureWarning: Function get_feature_names is deprecated; get_feature_names is deprecated in 1.0 and will be removed in 1.2. Please use get_feature_names_out instead.\n",
            "  warnings.warn(msg, category=FutureWarning)\n"
          ]
        },
        {
          "output_type": "execute_result",
          "data": {
            "text/plain": [
              "['about',\n",
              " 'animals',\n",
              " 'are',\n",
              " 'cats',\n",
              " 'doing',\n",
              " 'esi',\n",
              " 'feline',\n",
              " 'furry',\n",
              " 'go',\n",
              " 'great',\n",
              " 'hello',\n",
              " 'how',\n",
              " 'is',\n",
              " 'it',\n",
              " 'let',\n",
              " 'my',\n",
              " 'name',\n",
              " 'nice',\n",
              " 'our',\n",
              " 'outside',\n",
              " 'pets',\n",
              " 'story',\n",
              " 'there',\n",
              " 'this',\n",
              " 'tommorow',\n",
              " 'wether',\n",
              " 'you']"
            ]
          },
          "metadata": {},
          "execution_count": 28
        }
      ]
    },
    {
      "cell_type": "code",
      "source": [
        "tvect = feature_extraction.text.TfidfVectorizer()"
      ],
      "metadata": {
        "id": "DrNpyHjn_unI"
      },
      "execution_count": 29,
      "outputs": []
    },
    {
      "cell_type": "code",
      "source": [
        "DTM = tvect.fit_transform(samples)"
      ],
      "metadata": {
        "id": "k2ZGTq0i_8go"
      },
      "execution_count": 30,
      "outputs": []
    },
    {
      "cell_type": "code",
      "source": [
        "tvect.vocabulary_"
      ],
      "metadata": {
        "colab": {
          "base_uri": "https://localhost:8080/"
        },
        "id": "tri3GOBPAAGT",
        "outputId": "d915647b-8083-4839-bf98-1a4520d5b4bf"
      },
      "execution_count": 31,
      "outputs": [
        {
          "output_type": "execute_result",
          "data": {
            "text/plain": [
              "{'about': 0,\n",
              " 'animals': 1,\n",
              " 'are': 2,\n",
              " 'cats': 3,\n",
              " 'doing': 4,\n",
              " 'esi': 5,\n",
              " 'feline': 6,\n",
              " 'furry': 7,\n",
              " 'go': 8,\n",
              " 'great': 9,\n",
              " 'hello': 10,\n",
              " 'how': 11,\n",
              " 'is': 12,\n",
              " 'it': 13,\n",
              " 'let': 14,\n",
              " 'my': 15,\n",
              " 'name': 16,\n",
              " 'nice': 17,\n",
              " 'our': 18,\n",
              " 'outside': 19,\n",
              " 'pets': 20,\n",
              " 'story': 21,\n",
              " 'there': 22,\n",
              " 'this': 23,\n",
              " 'tommorow': 24,\n",
              " 'wether': 25,\n",
              " 'you': 26}"
            ]
          },
          "metadata": {},
          "execution_count": 31
        }
      ]
    },
    {
      "cell_type": "code",
      "source": [
        "tvect.get_feature_names_out()"
      ],
      "metadata": {
        "colab": {
          "base_uri": "https://localhost:8080/"
        },
        "id": "9Scqyt9KAEcZ",
        "outputId": "71308a8f-003b-46f0-d241-86afc9a1d477"
      },
      "execution_count": 32,
      "outputs": [
        {
          "output_type": "execute_result",
          "data": {
            "text/plain": [
              "array(['about', 'animals', 'are', 'cats', 'doing', 'esi', 'feline',\n",
              "       'furry', 'go', 'great', 'hello', 'how', 'is', 'it', 'let', 'my',\n",
              "       'name', 'nice', 'our', 'outside', 'pets', 'story', 'there', 'this',\n",
              "       'tommorow', 'wether', 'you'], dtype=object)"
            ]
          },
          "metadata": {},
          "execution_count": 32
        }
      ]
    },
    {
      "cell_type": "markdown",
      "source": [
        "#Vocabulary"
      ],
      "metadata": {
        "id": "d_BwMNfvKBwM"
      }
    },
    {
      "cell_type": "code",
      "source": [
        "vocab = {}\n",
        "id = 0\n",
        "for sent in samples:\n",
        "  for token in sent.lower().split():\n",
        "    if not vocab.get(token):\n",
        "      vocab[token] = id\n",
        "      id += 1"
      ],
      "metadata": {
        "id": "BuITLVDOAgl3"
      },
      "execution_count": 41,
      "outputs": []
    },
    {
      "cell_type": "code",
      "source": [
        "vocab"
      ],
      "metadata": {
        "colab": {
          "base_uri": "https://localhost:8080/"
        },
        "id": "MMm8q7pwKt7g",
        "outputId": "8b7412b8-f479-4c06-ea9d-2fa7967243e5"
      },
      "execution_count": 42,
      "outputs": [
        {
          "output_type": "execute_result",
          "data": {
            "text/plain": [
              "{'a': 12,\n",
              " 'about': 22,\n",
              " 'animals': 28,\n",
              " 'are': 6,\n",
              " 'cats': 23,\n",
              " 'doing': 9,\n",
              " 'esi': 4,\n",
              " 'feline': 25,\n",
              " 'furry': 27,\n",
              " 'go': 17,\n",
              " 'great?': 10,\n",
              " 'hello,': 0,\n",
              " 'how': 5,\n",
              " 'is': 3,\n",
              " 'it': 11,\n",
              " 'let\"s': 16,\n",
              " 'my': 1,\n",
              " 'name': 2,\n",
              " 'nice': 13,\n",
              " 'our': 24,\n",
              " 'outside': 15,\n",
              " 'pets': 26,\n",
              " 'story': 21,\n",
              " 'there': 18,\n",
              " 'this': 20,\n",
              " 'tommorow': 19,\n",
              " 'wether': 14,\n",
              " 'you': 8,\n",
              " 'you?': 7}"
            ]
          },
          "metadata": {},
          "execution_count": 42
        }
      ]
    },
    {
      "cell_type": "code",
      "source": [
        ""
      ],
      "metadata": {
        "id": "gI6njOL_KxH-"
      },
      "execution_count": null,
      "outputs": []
    }
  ]
}